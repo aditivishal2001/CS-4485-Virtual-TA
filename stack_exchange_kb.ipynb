{
  "nbformat": 4,
  "nbformat_minor": 0,
  "metadata": {
    "colab": {
      "provenance": []
    },
    "kernelspec": {
      "name": "python3",
      "display_name": "Python 3"
    },
    "language_info": {
      "name": "python"
    }
  },
  "cells": [
    {
      "cell_type": "code",
      "source": [
        "!pip install spacy_transformers"
      ],
      "metadata": {
        "colab": {
          "base_uri": "https://localhost:8080/"
        },
        "id": "G85jaFBQ8Dnz",
        "outputId": "deae2b8a-faaa-4d2b-e6a0-497ef69c5bb3"
      },
      "execution_count": 14,
      "outputs": [
        {
          "output_type": "stream",
          "name": "stdout",
          "text": [
            "Looking in indexes: https://pypi.org/simple, https://us-python.pkg.dev/colab-wheels/public/simple/\n",
            "Requirement already satisfied: spacy_transformers in /usr/local/lib/python3.7/dist-packages (1.1.8)\n",
            "Requirement already satisfied: spacy-alignments<1.0.0,>=0.7.2 in /usr/local/lib/python3.7/dist-packages (from spacy_transformers) (0.8.6)\n",
            "Requirement already satisfied: spacy<4.0.0,>=3.4.0 in /usr/local/lib/python3.7/dist-packages (from spacy_transformers) (3.4.3)\n",
            "Requirement already satisfied: srsly<3.0.0,>=2.4.0 in /usr/local/lib/python3.7/dist-packages (from spacy_transformers) (2.4.5)\n",
            "Requirement already satisfied: torch>=1.6.0 in /usr/local/lib/python3.7/dist-packages (from spacy_transformers) (1.12.1+cu113)\n",
            "Requirement already satisfied: transformers<4.22.0,>=3.4.0 in /usr/local/lib/python3.7/dist-packages (from spacy_transformers) (4.21.3)\n",
            "Requirement already satisfied: numpy>=1.15.0 in /usr/local/lib/python3.7/dist-packages (from spacy<4.0.0,>=3.4.0->spacy_transformers) (1.21.6)\n",
            "Requirement already satisfied: thinc<8.2.0,>=8.1.0 in /usr/local/lib/python3.7/dist-packages (from spacy<4.0.0,>=3.4.0->spacy_transformers) (8.1.5)\n",
            "Requirement already satisfied: setuptools in /usr/local/lib/python3.7/dist-packages (from spacy<4.0.0,>=3.4.0->spacy_transformers) (57.4.0)\n",
            "Requirement already satisfied: typing-extensions<4.2.0,>=3.7.4 in /usr/local/lib/python3.7/dist-packages (from spacy<4.0.0,>=3.4.0->spacy_transformers) (4.1.1)\n",
            "Requirement already satisfied: spacy-loggers<2.0.0,>=1.0.0 in /usr/local/lib/python3.7/dist-packages (from spacy<4.0.0,>=3.4.0->spacy_transformers) (1.0.3)\n",
            "Requirement already satisfied: catalogue<2.1.0,>=2.0.6 in /usr/local/lib/python3.7/dist-packages (from spacy<4.0.0,>=3.4.0->spacy_transformers) (2.0.8)\n",
            "Requirement already satisfied: tqdm<5.0.0,>=4.38.0 in /usr/local/lib/python3.7/dist-packages (from spacy<4.0.0,>=3.4.0->spacy_transformers) (4.64.1)\n",
            "Requirement already satisfied: preshed<3.1.0,>=3.0.2 in /usr/local/lib/python3.7/dist-packages (from spacy<4.0.0,>=3.4.0->spacy_transformers) (3.0.8)\n",
            "Requirement already satisfied: pathy>=0.3.5 in /usr/local/lib/python3.7/dist-packages (from spacy<4.0.0,>=3.4.0->spacy_transformers) (0.8.1)\n",
            "Requirement already satisfied: pydantic!=1.8,!=1.8.1,<1.11.0,>=1.7.4 in /usr/local/lib/python3.7/dist-packages (from spacy<4.0.0,>=3.4.0->spacy_transformers) (1.10.2)\n",
            "Requirement already satisfied: langcodes<4.0.0,>=3.2.0 in /usr/local/lib/python3.7/dist-packages (from spacy<4.0.0,>=3.4.0->spacy_transformers) (3.3.0)\n",
            "Requirement already satisfied: typer<0.8.0,>=0.3.0 in /usr/local/lib/python3.7/dist-packages (from spacy<4.0.0,>=3.4.0->spacy_transformers) (0.7.0)\n",
            "Requirement already satisfied: wasabi<1.1.0,>=0.9.1 in /usr/local/lib/python3.7/dist-packages (from spacy<4.0.0,>=3.4.0->spacy_transformers) (0.10.1)\n",
            "Requirement already satisfied: requests<3.0.0,>=2.13.0 in /usr/local/lib/python3.7/dist-packages (from spacy<4.0.0,>=3.4.0->spacy_transformers) (2.23.0)\n",
            "Requirement already satisfied: murmurhash<1.1.0,>=0.28.0 in /usr/local/lib/python3.7/dist-packages (from spacy<4.0.0,>=3.4.0->spacy_transformers) (1.0.9)\n",
            "Requirement already satisfied: jinja2 in /usr/local/lib/python3.7/dist-packages (from spacy<4.0.0,>=3.4.0->spacy_transformers) (2.11.3)\n",
            "Requirement already satisfied: packaging>=20.0 in /usr/local/lib/python3.7/dist-packages (from spacy<4.0.0,>=3.4.0->spacy_transformers) (21.3)\n",
            "Requirement already satisfied: spacy-legacy<3.1.0,>=3.0.10 in /usr/local/lib/python3.7/dist-packages (from spacy<4.0.0,>=3.4.0->spacy_transformers) (3.0.10)\n",
            "Requirement already satisfied: cymem<2.1.0,>=2.0.2 in /usr/local/lib/python3.7/dist-packages (from spacy<4.0.0,>=3.4.0->spacy_transformers) (2.0.7)\n",
            "Requirement already satisfied: zipp>=0.5 in /usr/local/lib/python3.7/dist-packages (from catalogue<2.1.0,>=2.0.6->spacy<4.0.0,>=3.4.0->spacy_transformers) (3.10.0)\n",
            "Requirement already satisfied: pyparsing!=3.0.5,>=2.0.2 in /usr/local/lib/python3.7/dist-packages (from packaging>=20.0->spacy<4.0.0,>=3.4.0->spacy_transformers) (3.0.9)\n",
            "Requirement already satisfied: smart-open<6.0.0,>=5.2.1 in /usr/local/lib/python3.7/dist-packages (from pathy>=0.3.5->spacy<4.0.0,>=3.4.0->spacy_transformers) (5.2.1)\n",
            "Requirement already satisfied: chardet<4,>=3.0.2 in /usr/local/lib/python3.7/dist-packages (from requests<3.0.0,>=2.13.0->spacy<4.0.0,>=3.4.0->spacy_transformers) (3.0.4)\n",
            "Requirement already satisfied: urllib3!=1.25.0,!=1.25.1,<1.26,>=1.21.1 in /usr/local/lib/python3.7/dist-packages (from requests<3.0.0,>=2.13.0->spacy<4.0.0,>=3.4.0->spacy_transformers) (1.24.3)\n",
            "Requirement already satisfied: idna<3,>=2.5 in /usr/local/lib/python3.7/dist-packages (from requests<3.0.0,>=2.13.0->spacy<4.0.0,>=3.4.0->spacy_transformers) (2.10)\n",
            "Requirement already satisfied: certifi>=2017.4.17 in /usr/local/lib/python3.7/dist-packages (from requests<3.0.0,>=2.13.0->spacy<4.0.0,>=3.4.0->spacy_transformers) (2022.9.24)\n",
            "Requirement already satisfied: blis<0.8.0,>=0.7.8 in /usr/local/lib/python3.7/dist-packages (from thinc<8.2.0,>=8.1.0->spacy<4.0.0,>=3.4.0->spacy_transformers) (0.7.9)\n",
            "Requirement already satisfied: confection<1.0.0,>=0.0.1 in /usr/local/lib/python3.7/dist-packages (from thinc<8.2.0,>=8.1.0->spacy<4.0.0,>=3.4.0->spacy_transformers) (0.0.3)\n",
            "Requirement already satisfied: filelock in /usr/local/lib/python3.7/dist-packages (from transformers<4.22.0,>=3.4.0->spacy_transformers) (3.8.0)\n",
            "Requirement already satisfied: regex!=2019.12.17 in /usr/local/lib/python3.7/dist-packages (from transformers<4.22.0,>=3.4.0->spacy_transformers) (2022.6.2)\n",
            "Requirement already satisfied: tokenizers!=0.11.3,<0.13,>=0.11.1 in /usr/local/lib/python3.7/dist-packages (from transformers<4.22.0,>=3.4.0->spacy_transformers) (0.12.1)\n",
            "Requirement already satisfied: importlib-metadata in /usr/local/lib/python3.7/dist-packages (from transformers<4.22.0,>=3.4.0->spacy_transformers) (4.13.0)\n",
            "Requirement already satisfied: huggingface-hub<1.0,>=0.1.0 in /usr/local/lib/python3.7/dist-packages (from transformers<4.22.0,>=3.4.0->spacy_transformers) (0.11.1)\n",
            "Requirement already satisfied: pyyaml>=5.1 in /usr/local/lib/python3.7/dist-packages (from transformers<4.22.0,>=3.4.0->spacy_transformers) (6.0)\n",
            "Requirement already satisfied: click<9.0.0,>=7.1.1 in /usr/local/lib/python3.7/dist-packages (from typer<0.8.0,>=0.3.0->spacy<4.0.0,>=3.4.0->spacy_transformers) (7.1.2)\n",
            "Requirement already satisfied: MarkupSafe>=0.23 in /usr/local/lib/python3.7/dist-packages (from jinja2->spacy<4.0.0,>=3.4.0->spacy_transformers) (2.0.1)\n"
          ]
        }
      ]
    },
    {
      "cell_type": "code",
      "source": [
        "!python -m spacy download en_core_web_lg"
      ],
      "metadata": {
        "colab": {
          "base_uri": "https://localhost:8080/"
        },
        "id": "3Hh4-hyY8EjL",
        "outputId": "3d7ab672-a3bd-449d-c7a7-4963e78ea8bf"
      },
      "execution_count": 15,
      "outputs": [
        {
          "output_type": "stream",
          "name": "stdout",
          "text": [
            "2022-12-01 02:17:11.966063: E tensorflow/stream_executor/cuda/cuda_driver.cc:271] failed call to cuInit: CUDA_ERROR_NO_DEVICE: no CUDA-capable device is detected\n",
            "Looking in indexes: https://pypi.org/simple, https://us-python.pkg.dev/colab-wheels/public/simple/\n",
            "Collecting en-core-web-lg==3.4.1\n",
            "  Downloading https://github.com/explosion/spacy-models/releases/download/en_core_web_lg-3.4.1/en_core_web_lg-3.4.1-py3-none-any.whl (587.7 MB)\n",
            "\u001b[K     |████████████████████████████████| 587.7 MB 12 kB/s \n",
            "\u001b[?25hRequirement already satisfied: spacy<3.5.0,>=3.4.0 in /usr/local/lib/python3.7/dist-packages (from en-core-web-lg==3.4.1) (3.4.3)\n",
            "Requirement already satisfied: numpy>=1.15.0 in /usr/local/lib/python3.7/dist-packages (from spacy<3.5.0,>=3.4.0->en-core-web-lg==3.4.1) (1.21.6)\n",
            "Requirement already satisfied: jinja2 in /usr/local/lib/python3.7/dist-packages (from spacy<3.5.0,>=3.4.0->en-core-web-lg==3.4.1) (2.11.3)\n",
            "Requirement already satisfied: spacy-legacy<3.1.0,>=3.0.10 in /usr/local/lib/python3.7/dist-packages (from spacy<3.5.0,>=3.4.0->en-core-web-lg==3.4.1) (3.0.10)\n",
            "Requirement already satisfied: pydantic!=1.8,!=1.8.1,<1.11.0,>=1.7.4 in /usr/local/lib/python3.7/dist-packages (from spacy<3.5.0,>=3.4.0->en-core-web-lg==3.4.1) (1.10.2)\n",
            "Requirement already satisfied: tqdm<5.0.0,>=4.38.0 in /usr/local/lib/python3.7/dist-packages (from spacy<3.5.0,>=3.4.0->en-core-web-lg==3.4.1) (4.64.1)\n",
            "Requirement already satisfied: preshed<3.1.0,>=3.0.2 in /usr/local/lib/python3.7/dist-packages (from spacy<3.5.0,>=3.4.0->en-core-web-lg==3.4.1) (3.0.8)\n",
            "Requirement already satisfied: cymem<2.1.0,>=2.0.2 in /usr/local/lib/python3.7/dist-packages (from spacy<3.5.0,>=3.4.0->en-core-web-lg==3.4.1) (2.0.7)\n",
            "Requirement already satisfied: murmurhash<1.1.0,>=0.28.0 in /usr/local/lib/python3.7/dist-packages (from spacy<3.5.0,>=3.4.0->en-core-web-lg==3.4.1) (1.0.9)\n",
            "Requirement already satisfied: srsly<3.0.0,>=2.4.3 in /usr/local/lib/python3.7/dist-packages (from spacy<3.5.0,>=3.4.0->en-core-web-lg==3.4.1) (2.4.5)\n",
            "Requirement already satisfied: langcodes<4.0.0,>=3.2.0 in /usr/local/lib/python3.7/dist-packages (from spacy<3.5.0,>=3.4.0->en-core-web-lg==3.4.1) (3.3.0)\n",
            "Requirement already satisfied: typer<0.8.0,>=0.3.0 in /usr/local/lib/python3.7/dist-packages (from spacy<3.5.0,>=3.4.0->en-core-web-lg==3.4.1) (0.7.0)\n",
            "Requirement already satisfied: thinc<8.2.0,>=8.1.0 in /usr/local/lib/python3.7/dist-packages (from spacy<3.5.0,>=3.4.0->en-core-web-lg==3.4.1) (8.1.5)\n",
            "Requirement already satisfied: spacy-loggers<2.0.0,>=1.0.0 in /usr/local/lib/python3.7/dist-packages (from spacy<3.5.0,>=3.4.0->en-core-web-lg==3.4.1) (1.0.3)\n",
            "Requirement already satisfied: requests<3.0.0,>=2.13.0 in /usr/local/lib/python3.7/dist-packages (from spacy<3.5.0,>=3.4.0->en-core-web-lg==3.4.1) (2.23.0)\n",
            "Requirement already satisfied: setuptools in /usr/local/lib/python3.7/dist-packages (from spacy<3.5.0,>=3.4.0->en-core-web-lg==3.4.1) (57.4.0)\n",
            "Requirement already satisfied: wasabi<1.1.0,>=0.9.1 in /usr/local/lib/python3.7/dist-packages (from spacy<3.5.0,>=3.4.0->en-core-web-lg==3.4.1) (0.10.1)\n",
            "Requirement already satisfied: typing-extensions<4.2.0,>=3.7.4 in /usr/local/lib/python3.7/dist-packages (from spacy<3.5.0,>=3.4.0->en-core-web-lg==3.4.1) (4.1.1)\n",
            "Requirement already satisfied: catalogue<2.1.0,>=2.0.6 in /usr/local/lib/python3.7/dist-packages (from spacy<3.5.0,>=3.4.0->en-core-web-lg==3.4.1) (2.0.8)\n",
            "Requirement already satisfied: pathy>=0.3.5 in /usr/local/lib/python3.7/dist-packages (from spacy<3.5.0,>=3.4.0->en-core-web-lg==3.4.1) (0.8.1)\n",
            "Requirement already satisfied: packaging>=20.0 in /usr/local/lib/python3.7/dist-packages (from spacy<3.5.0,>=3.4.0->en-core-web-lg==3.4.1) (21.3)\n",
            "Requirement already satisfied: zipp>=0.5 in /usr/local/lib/python3.7/dist-packages (from catalogue<2.1.0,>=2.0.6->spacy<3.5.0,>=3.4.0->en-core-web-lg==3.4.1) (3.10.0)\n",
            "Requirement already satisfied: pyparsing!=3.0.5,>=2.0.2 in /usr/local/lib/python3.7/dist-packages (from packaging>=20.0->spacy<3.5.0,>=3.4.0->en-core-web-lg==3.4.1) (3.0.9)\n",
            "Requirement already satisfied: smart-open<6.0.0,>=5.2.1 in /usr/local/lib/python3.7/dist-packages (from pathy>=0.3.5->spacy<3.5.0,>=3.4.0->en-core-web-lg==3.4.1) (5.2.1)\n",
            "Requirement already satisfied: chardet<4,>=3.0.2 in /usr/local/lib/python3.7/dist-packages (from requests<3.0.0,>=2.13.0->spacy<3.5.0,>=3.4.0->en-core-web-lg==3.4.1) (3.0.4)\n",
            "Requirement already satisfied: idna<3,>=2.5 in /usr/local/lib/python3.7/dist-packages (from requests<3.0.0,>=2.13.0->spacy<3.5.0,>=3.4.0->en-core-web-lg==3.4.1) (2.10)\n",
            "Requirement already satisfied: certifi>=2017.4.17 in /usr/local/lib/python3.7/dist-packages (from requests<3.0.0,>=2.13.0->spacy<3.5.0,>=3.4.0->en-core-web-lg==3.4.1) (2022.9.24)\n",
            "Requirement already satisfied: urllib3!=1.25.0,!=1.25.1,<1.26,>=1.21.1 in /usr/local/lib/python3.7/dist-packages (from requests<3.0.0,>=2.13.0->spacy<3.5.0,>=3.4.0->en-core-web-lg==3.4.1) (1.24.3)\n",
            "Requirement already satisfied: confection<1.0.0,>=0.0.1 in /usr/local/lib/python3.7/dist-packages (from thinc<8.2.0,>=8.1.0->spacy<3.5.0,>=3.4.0->en-core-web-lg==3.4.1) (0.0.3)\n",
            "Requirement already satisfied: blis<0.8.0,>=0.7.8 in /usr/local/lib/python3.7/dist-packages (from thinc<8.2.0,>=8.1.0->spacy<3.5.0,>=3.4.0->en-core-web-lg==3.4.1) (0.7.9)\n",
            "Requirement already satisfied: click<9.0.0,>=7.1.1 in /usr/local/lib/python3.7/dist-packages (from typer<0.8.0,>=0.3.0->spacy<3.5.0,>=3.4.0->en-core-web-lg==3.4.1) (7.1.2)\n",
            "Requirement already satisfied: MarkupSafe>=0.23 in /usr/local/lib/python3.7/dist-packages (from jinja2->spacy<3.5.0,>=3.4.0->en-core-web-lg==3.4.1) (2.0.1)\n",
            "\u001b[38;5;2m✔ Download and installation successful\u001b[0m\n",
            "You can now load the package via spacy.load('en_core_web_lg')\n"
          ]
        }
      ]
    },
    {
      "cell_type": "code",
      "source": [
        "import spacy\n",
        "import spacy_transformers"
      ],
      "metadata": {
        "id": "dRbzKRys8IRY"
      },
      "execution_count": 16,
      "outputs": []
    },
    {
      "cell_type": "code",
      "source": [
        "nlpModel = spacy.load(\"en_core_web_lg\")"
      ],
      "metadata": {
        "id": "NwldjrAY8RVx"
      },
      "execution_count": 17,
      "outputs": []
    },
    {
      "cell_type": "code",
      "execution_count": 1,
      "metadata": {
        "id": "dcpLKoCmlyMg"
      },
      "outputs": [],
      "source": [
        "inputFile = open('or.stackexchange.com.jsonl', 'r')\n",
        "quoteMark = 0\n",
        "nextChar = inputFile.read(1)\n",
        "curQuestion = \"\"\n",
        "curAnswer = \"\"\n",
        "orQuestions = []\n",
        "orAnswers = []\n",
        "quoteFlag = False\n",
        "while nextChar:\n",
        "  if nextChar == '\"' and quoteFlag == False:\n",
        "    quoteMark = quoteMark + 1\n",
        "    quoteMark = quoteMark%4\n",
        "    if quoteMark == 2:\n",
        "      orQuestions.append(curQuestion)\n",
        "      curQuestion = \"\"\n",
        "    elif quoteMark == 0:\n",
        "      orAnswers.append(curAnswer)\n",
        "      curAnswer = \"\"\n",
        "  elif quoteMark == 1:\n",
        "    curQuestion = curQuestion + nextChar\n",
        "  elif quoteMark == 3:\n",
        "    curAnswer = curAnswer + nextChar\n",
        "  nextChar = inputFile.read(1)\n",
        "  quoteFlag = False\n",
        "  if nextChar == '\\\\':\n",
        "    nextChar = inputFile.read(1)\n",
        "    if nextChar == 'n':\n",
        "      nextChar = '\\n'\n",
        "    elif nextChar == 'u':\n",
        "      code = inputFile.read(4)\n",
        "      nextChar = chr(int(code,16))\n",
        "    elif nextChar == '\\\\':\n",
        "      nextChar = '\\\\'\n",
        "    elif nextChar == '\\\"':\n",
        "      quoteFlag = True\n",
        "    elif nextChar == 'e':\n",
        "      nextChar = inputFile.read(1)\n",
        "      if nextChar == 'q' or nextChar == ' ':\n",
        "        nextChar = chr(int('2260',16))\n",
        "      elif nextChar == 'g':\n",
        "        nextChar = chr(int('00AC',16))\n",
        "    elif nextChar == 'o':\n",
        "      nextChar = inputFile.read(1)\n",
        "      if quoteMark == 1:\n",
        "        curQuestion = curQuestion + \"not \"\n",
        "      elif quoteMark == 3:\n",
        "        curAnswer = curAnswer + \"not \"\n",
        "      nextChar = inputFile.read(1)\n",
        "    elif nextChar == 'i':\n",
        "      nextChar = chr(int('220B',16))\n",
        "inputFile.close()"
      ]
    },
    {
      "cell_type": "code",
      "source": [
        "inputFile = open('academia.stackexchange.com.jsonl', 'r')\n",
        "quoteMark = 0\n",
        "nextChar = inputFile.read(1)\n",
        "curQuestion = \"\"\n",
        "curAnswer = \"\"\n",
        "academiaQuestions = []\n",
        "academiaAnswers = []\n",
        "quoteFlag = False\n",
        "while nextChar:\n",
        "  if nextChar == '\"' and quoteFlag == False:\n",
        "    quoteMark = quoteMark + 1\n",
        "    quoteMark = quoteMark%4\n",
        "    if quoteMark == 2:\n",
        "      academiaQuestions.append(curQuestion)\n",
        "      curQuestion = \"\"\n",
        "    elif quoteMark == 0:\n",
        "      academiaAnswers.append(curAnswer)\n",
        "      curAnswer = \"\"\n",
        "  elif quoteMark == 1:\n",
        "    curQuestion = curQuestion + nextChar\n",
        "  elif quoteMark == 3:\n",
        "    curAnswer = curAnswer + nextChar\n",
        "  nextChar = inputFile.read(1)\n",
        "  quoteFlag = False\n",
        "  if nextChar == '\\\\':\n",
        "    nextChar = inputFile.read(1)\n",
        "    if nextChar == 'n':\n",
        "      nextChar = '\\n'\n",
        "    elif nextChar == 'u':\n",
        "      code = inputFile.read(4)\n",
        "      nextChar = chr(int(code,16))\n",
        "    elif nextChar == '\\\\':\n",
        "      nextChar = '\\\\'\n",
        "    elif nextChar == '\\\"':\n",
        "      quoteFlag = True\n",
        "    elif nextChar == 'e':\n",
        "      nextChar = inputFile.read(1)\n",
        "      if nextChar == 'q' or nextChar == ' ':\n",
        "        nextChar = chr(int('2260',16))\n",
        "      elif nextChar == 'g':\n",
        "        nextChar = chr(int('00AC',16))\n",
        "    elif nextChar == 'o':\n",
        "      nextChar = inputFile.read(1)\n",
        "      if quoteMark == 1:\n",
        "        curQuestion = curQuestion + \"not \"\n",
        "      elif quoteMark == 3:\n",
        "        curAnswer = curAnswer + \"not \"\n",
        "      nextChar = inputFile.read(1)\n",
        "    elif nextChar == 'i':\n",
        "      nextChar = chr(int('220B',16))\n",
        "inputFile.close()"
      ],
      "metadata": {
        "id": "Jnmli2CRiXvD"
      },
      "execution_count": 2,
      "outputs": []
    },
    {
      "cell_type": "code",
      "source": [
        "inputFile = open('codegolf.stackexchange.com.jsonl', 'r')\n",
        "quoteMark = 0\n",
        "nextChar = inputFile.read(1)\n",
        "curQuestion = \"\"\n",
        "curAnswer = \"\"\n",
        "codegolfQuestions = []\n",
        "codegolfAnswers = []\n",
        "quoteFlag = False\n",
        "while nextChar:\n",
        "  if nextChar == '\"' and quoteFlag == False:\n",
        "    quoteMark = quoteMark + 1\n",
        "    quoteMark = quoteMark%4\n",
        "    if quoteMark == 2:\n",
        "      codegolfQuestions.append(curQuestion)\n",
        "      curQuestion = \"\"\n",
        "    elif quoteMark == 0:\n",
        "      codegolfAnswers.append(curAnswer)\n",
        "      curAnswer = \"\"\n",
        "  elif quoteMark == 1:\n",
        "    curQuestion = curQuestion + nextChar\n",
        "  elif quoteMark == 3:\n",
        "    curAnswer = curAnswer + nextChar\n",
        "  nextChar = inputFile.read(1)\n",
        "  quoteFlag = False\n",
        "  if nextChar == '\\\\':\n",
        "    nextChar = inputFile.read(1)\n",
        "    if nextChar == 'n':\n",
        "      nextChar = '\\n'\n",
        "    elif nextChar == 'u':\n",
        "      code = inputFile.read(4)\n",
        "      nextChar = chr(int(code,16))\n",
        "    elif nextChar == '\\\\':\n",
        "      nextChar = '\\\\'\n",
        "    elif nextChar == '\\\"':\n",
        "      quoteFlag = True\n",
        "    elif nextChar == 'e':\n",
        "      nextChar = inputFile.read(1)\n",
        "      if nextChar == 'q' or nextChar == ' ':\n",
        "        nextChar = chr(int('2260',16))\n",
        "      elif nextChar == 'g':\n",
        "        nextChar = chr(int('00AC',16))\n",
        "    elif nextChar == 'o':\n",
        "      nextChar = inputFile.read(1)\n",
        "      if quoteMark == 1:\n",
        "        curQuestion = curQuestion + \"not \"\n",
        "      elif quoteMark == 3:\n",
        "        curAnswer = curAnswer + \"not \"\n",
        "      nextChar = inputFile.read(1)\n",
        "    elif nextChar == 'i':\n",
        "      nextChar = chr(int('220B',16))\n",
        "inputFile.close()"
      ],
      "metadata": {
        "id": "Gt_GdG7di6A_"
      },
      "execution_count": 3,
      "outputs": []
    },
    {
      "cell_type": "code",
      "source": [
        "inputFile = open('codereview.stackexchange.com.jsonl', 'r')\n",
        "quoteMark = 0\n",
        "nextChar = inputFile.read(1)\n",
        "curQuestion = \"\"\n",
        "curAnswer = \"\"\n",
        "codereviewQuestions = []\n",
        "codereviewAnswers = []\n",
        "quoteFlag = False\n",
        "while nextChar:\n",
        "  if nextChar == '\"' and quoteFlag == False:\n",
        "    quoteMark = quoteMark + 1\n",
        "    quoteMark = quoteMark%4\n",
        "    if quoteMark == 2:\n",
        "      codereviewQuestions.append(curQuestion)\n",
        "      curQuestion = \"\"\n",
        "    elif quoteMark == 0:\n",
        "      codereviewAnswers.append(curAnswer)\n",
        "      curAnswer = \"\"\n",
        "  elif quoteMark == 1:\n",
        "    curQuestion = curQuestion + nextChar\n",
        "  elif quoteMark == 3:\n",
        "    curAnswer = curAnswer + nextChar\n",
        "  nextChar = inputFile.read(1)\n",
        "  quoteFlag = False\n",
        "  if nextChar == '\\\\':\n",
        "    nextChar = inputFile.read(1)\n",
        "    if nextChar == 'n':\n",
        "      nextChar = '\\n'\n",
        "    elif nextChar == 'u':\n",
        "      code = inputFile.read(4)\n",
        "      nextChar = chr(int(code,16))\n",
        "    elif nextChar == '\\\\':\n",
        "      nextChar = '\\\\'\n",
        "    elif nextChar == '\\\"':\n",
        "      quoteFlag = True\n",
        "    elif nextChar == 'e':\n",
        "      nextChar = inputFile.read(1)\n",
        "      if nextChar == 'q' or nextChar == ' ':\n",
        "        nextChar = chr(int('2260',16))\n",
        "      elif nextChar == 'g':\n",
        "        nextChar = chr(int('00AC',16))\n",
        "    elif nextChar == 'o':\n",
        "      nextChar = inputFile.read(1)\n",
        "      if quoteMark == 1:\n",
        "        curQuestion = curQuestion + \"not \"\n",
        "      elif quoteMark == 3:\n",
        "        curAnswer = curAnswer + \"not \"\n",
        "      nextChar = inputFile.read(1)\n",
        "    elif nextChar == 'i':\n",
        "      nextChar = chr(int('220B',16))\n",
        "inputFile.close()"
      ],
      "metadata": {
        "id": "NlGlyFNUjDVL"
      },
      "execution_count": 4,
      "outputs": []
    },
    {
      "cell_type": "code",
      "source": [
        "inputFile = open('cs.stackexchange.com.jsonl', 'r')\n",
        "quoteMark = 0\n",
        "nextChar = inputFile.read(1)\n",
        "curQuestion = \"\"\n",
        "curAnswer = \"\"\n",
        "csQuestions = []\n",
        "csAnswers = []\n",
        "quoteFlag = False\n",
        "while nextChar:\n",
        "  if nextChar == '\"' and quoteFlag == False:\n",
        "    quoteMark = quoteMark + 1\n",
        "    quoteMark = quoteMark%4\n",
        "    if quoteMark == 2:\n",
        "      csQuestions.append(curQuestion)\n",
        "      curQuestion = \"\"\n",
        "    elif quoteMark == 0:\n",
        "      csAnswers.append(curAnswer)\n",
        "      curAnswer = \"\"\n",
        "  elif quoteMark == 1:\n",
        "    curQuestion = curQuestion + nextChar\n",
        "  elif quoteMark == 3:\n",
        "    curAnswer = curAnswer + nextChar\n",
        "  nextChar = inputFile.read(1)\n",
        "  quoteFlag = False\n",
        "  if nextChar == '\\\\':\n",
        "    nextChar = inputFile.read(1)\n",
        "    if nextChar == 'n':\n",
        "      nextChar = '\\n'\n",
        "    elif nextChar == 'u':\n",
        "      code = inputFile.read(4)\n",
        "      nextChar = chr(int(code,16))\n",
        "    elif nextChar == '\\\\':\n",
        "      nextChar = '\\\\'\n",
        "    elif nextChar == '\\\"':\n",
        "      quoteFlag = True\n",
        "    elif nextChar == 'e':\n",
        "      nextChar = inputFile.read(1)\n",
        "      if nextChar == 'q' or nextChar == ' ':\n",
        "        nextChar = chr(int('2260',16))\n",
        "      elif nextChar == 'g':\n",
        "        nextChar = chr(int('00AC',16))\n",
        "    elif nextChar == 'o':\n",
        "      nextChar = inputFile.read(1)\n",
        "      if quoteMark == 1:\n",
        "        curQuestion = curQuestion + \"not \"\n",
        "      elif quoteMark == 3:\n",
        "        curAnswer = curAnswer + \"not \"\n",
        "      nextChar = inputFile.read(1)\n",
        "    elif nextChar == 'i':\n",
        "      nextChar = chr(int('220B',16))\n",
        "inputFile.close()"
      ],
      "metadata": {
        "id": "P3Gouu1DjMHz"
      },
      "execution_count": 5,
      "outputs": []
    },
    {
      "cell_type": "code",
      "source": [
        "inputFile = open('cseducators.stackexchange.com.jsonl', 'r')\n",
        "quoteMark = 0\n",
        "nextChar = inputFile.read(1)\n",
        "curQuestion = \"\"\n",
        "curAnswer = \"\"\n",
        "cseducatorsQuestions = []\n",
        "cseducatorsAnswers = []\n",
        "quoteFlag = False\n",
        "while nextChar:\n",
        "  if nextChar == '\"' and quoteFlag == False:\n",
        "    quoteMark = quoteMark + 1\n",
        "    quoteMark = quoteMark%4\n",
        "    if quoteMark == 2:\n",
        "      cseducatorsQuestions.append(curQuestion)\n",
        "      curQuestion = \"\"\n",
        "    elif quoteMark == 0:\n",
        "      cseducatorsAnswers.append(curAnswer)\n",
        "      curAnswer = \"\"\n",
        "  elif quoteMark == 1:\n",
        "    curQuestion = curQuestion + nextChar\n",
        "  elif quoteMark == 3:\n",
        "    curAnswer = curAnswer + nextChar\n",
        "  nextChar = inputFile.read(1)\n",
        "  quoteFlag = False\n",
        "  if nextChar == '\\\\':\n",
        "    nextChar = inputFile.read(1)\n",
        "    if nextChar == 'n':\n",
        "      nextChar = '\\n'\n",
        "    elif nextChar == 'u':\n",
        "      code = inputFile.read(4)\n",
        "      nextChar = chr(int(code,16))\n",
        "    elif nextChar == '\\\\':\n",
        "      nextChar = '\\\\'\n",
        "    elif nextChar == '\\\"':\n",
        "      quoteFlag = True\n",
        "    elif nextChar == 'e':\n",
        "      nextChar = inputFile.read(1)\n",
        "      if nextChar == 'q' or nextChar == ' ':\n",
        "        nextChar = chr(int('2260',16))\n",
        "      elif nextChar == 'g':\n",
        "        nextChar = chr(int('00AC',16))\n",
        "    elif nextChar == 'o':\n",
        "      nextChar = inputFile.read(1)\n",
        "      if quoteMark == 1:\n",
        "        curQuestion = curQuestion + \"not \"\n",
        "      elif quoteMark == 3:\n",
        "        curAnswer = curAnswer + \"not \"\n",
        "      nextChar = inputFile.read(1)\n",
        "    elif nextChar == 'i':\n",
        "      nextChar = chr(int('220B',16))\n",
        "inputFile.close()"
      ],
      "metadata": {
        "id": "rYblqDCWjdV-"
      },
      "execution_count": 6,
      "outputs": []
    },
    {
      "cell_type": "code",
      "source": [
        "inputFile = open('cstheory.stackexchange.com.jsonl', 'r')\n",
        "quoteMark = 0\n",
        "nextChar = inputFile.read(1)\n",
        "curQuestion = \"\"\n",
        "curAnswer = \"\"\n",
        "cstheoryQuestions = []\n",
        "cstheoryAnswers = []\n",
        "quoteFlag = False\n",
        "while nextChar:\n",
        "  if nextChar == '\"' and quoteFlag == False:\n",
        "    quoteMark = quoteMark + 1\n",
        "    quoteMark = quoteMark%4\n",
        "    if quoteMark == 2:\n",
        "      cstheoryQuestions.append(curQuestion)\n",
        "      curQuestion = \"\"\n",
        "    elif quoteMark == 0:\n",
        "      cstheoryAnswers.append(curAnswer)\n",
        "      curAnswer = \"\"\n",
        "  elif quoteMark == 1:\n",
        "    curQuestion = curQuestion + nextChar\n",
        "  elif quoteMark == 3:\n",
        "    curAnswer = curAnswer + nextChar\n",
        "  nextChar = inputFile.read(1)\n",
        "  quoteFlag = False\n",
        "  if nextChar == '\\\\':\n",
        "    nextChar = inputFile.read(1)\n",
        "    if nextChar == 'n':\n",
        "      nextChar = '\\n'\n",
        "    elif nextChar == 'u':\n",
        "      code = inputFile.read(4)\n",
        "      nextChar = chr(int(code,16))\n",
        "    elif nextChar == '\\\\':\n",
        "      nextChar = '\\\\'\n",
        "    elif nextChar == '\\\"':\n",
        "      quoteFlag = True\n",
        "    elif nextChar == 'e':\n",
        "      nextChar = inputFile.read(1)\n",
        "      if nextChar == 'q' or nextChar == ' ':\n",
        "        nextChar = chr(int('2260',16))\n",
        "      elif nextChar == 'g':\n",
        "        nextChar = chr(int('00AC',16))\n",
        "    elif nextChar == 'o':\n",
        "      nextChar = inputFile.read(1)\n",
        "      if quoteMark == 1:\n",
        "        curQuestion = curQuestion + \"not \"\n",
        "      elif quoteMark == 3:\n",
        "        curAnswer = curAnswer + \"not \"\n",
        "      nextChar = inputFile.read(1)\n",
        "    elif nextChar == 'i':\n",
        "      nextChar = chr(int('220B',16))\n",
        "inputFile.close()"
      ],
      "metadata": {
        "id": "KP1yFe9DjjkC"
      },
      "execution_count": 7,
      "outputs": []
    },
    {
      "cell_type": "code",
      "source": [
        "inputFile = open('datascience.stackexchange.com.jsonl', 'r')\n",
        "quoteMark = 0\n",
        "nextChar = inputFile.read(1)\n",
        "curQuestion = \"\"\n",
        "curAnswer = \"\"\n",
        "datascienceQuestions = []\n",
        "datascienceAnswers = []\n",
        "quoteFlag = False\n",
        "while nextChar:\n",
        "  if nextChar == '\"' and quoteFlag == False:\n",
        "    quoteMark = quoteMark + 1\n",
        "    quoteMark = quoteMark%4\n",
        "    if quoteMark == 2:\n",
        "      datascienceQuestions.append(curQuestion)\n",
        "      curQuestion = \"\"\n",
        "    elif quoteMark == 0:\n",
        "      datascienceAnswers.append(curAnswer)\n",
        "      curAnswer = \"\"\n",
        "  elif quoteMark == 1:\n",
        "    curQuestion = curQuestion + nextChar\n",
        "  elif quoteMark == 3:\n",
        "    curAnswer = curAnswer + nextChar\n",
        "  nextChar = inputFile.read(1)\n",
        "  quoteFlag = False\n",
        "  if nextChar == '\\\\':\n",
        "    nextChar = inputFile.read(1)\n",
        "    if nextChar == 'n':\n",
        "      nextChar = '\\n'\n",
        "    elif nextChar == 'u':\n",
        "      code = inputFile.read(4)\n",
        "      nextChar = chr(int(code,16))\n",
        "    elif nextChar == '\\\\':\n",
        "      nextChar = '\\\\'\n",
        "    elif nextChar == '\\\"':\n",
        "      quoteFlag = True\n",
        "    elif nextChar == 'e':\n",
        "      nextChar = inputFile.read(1)\n",
        "      if nextChar == 'q' or nextChar == ' ':\n",
        "        nextChar = chr(int('2260',16))\n",
        "      elif nextChar == 'g':\n",
        "        nextChar = chr(int('00AC',16))\n",
        "    elif nextChar == 'o':\n",
        "      nextChar = inputFile.read(1)\n",
        "      if quoteMark == 1:\n",
        "        curQuestion = curQuestion + \"not \"\n",
        "      elif quoteMark == 3:\n",
        "        curAnswer = curAnswer + \"not \"\n",
        "      nextChar = inputFile.read(1)\n",
        "    elif nextChar == 'i':\n",
        "      nextChar = chr(int('220B',16))\n",
        "inputFile.close()"
      ],
      "metadata": {
        "id": "TOD8gAdfjqtg"
      },
      "execution_count": 8,
      "outputs": []
    },
    {
      "cell_type": "code",
      "source": [
        "inputFile = open('scicomp.stackexchange.com.jsonl', 'r')\n",
        "quoteMark = 0\n",
        "nextChar = inputFile.read(1)\n",
        "curQuestion = \"\"\n",
        "curAnswer = \"\"\n",
        "scicompQuestions = []\n",
        "scicompAnswers = []\n",
        "quoteFlag = False\n",
        "while nextChar:\n",
        "  if nextChar == '\"' and quoteFlag == False:\n",
        "    quoteMark = quoteMark + 1\n",
        "    quoteMark = quoteMark%4\n",
        "    if quoteMark == 2:\n",
        "      scicompQuestions.append(curQuestion)\n",
        "      curQuestion = \"\"\n",
        "    elif quoteMark == 0:\n",
        "      scicompAnswers.append(curAnswer)\n",
        "      curAnswer = \"\"\n",
        "  elif quoteMark == 1:\n",
        "    curQuestion = curQuestion + nextChar\n",
        "  elif quoteMark == 3:\n",
        "    curAnswer = curAnswer + nextChar\n",
        "  nextChar = inputFile.read(1)\n",
        "  quoteFlag = False\n",
        "  if nextChar == '\\\\':\n",
        "    nextChar = inputFile.read(1)\n",
        "    if nextChar == 'n':\n",
        "      nextChar = '\\n'\n",
        "    elif nextChar == 'u':\n",
        "      code = inputFile.read(4)\n",
        "      nextChar = chr(int(code,16))\n",
        "    elif nextChar == '\\\\':\n",
        "      nextChar = '\\\\'\n",
        "    elif nextChar == '\\\"':\n",
        "      quoteFlag = True\n",
        "    elif nextChar == 'e':\n",
        "      nextChar = inputFile.read(1)\n",
        "      if nextChar == 'q' or nextChar == ' ':\n",
        "        nextChar = chr(int('2260',16))\n",
        "      elif nextChar == 'g':\n",
        "        nextChar = chr(int('00AC',16))\n",
        "    elif nextChar == 'o':\n",
        "      nextChar = inputFile.read(1)\n",
        "      if quoteMark == 1:\n",
        "        curQuestion = curQuestion + \"not \"\n",
        "      elif quoteMark == 3:\n",
        "        curAnswer = curAnswer + \"not \"\n",
        "      nextChar = inputFile.read(1)\n",
        "    elif nextChar == 'i':\n",
        "      nextChar = chr(int('220B',16))\n",
        "inputFile.close()"
      ],
      "metadata": {
        "id": "CiqAkMUIj0Iz"
      },
      "execution_count": 9,
      "outputs": []
    },
    {
      "cell_type": "code",
      "source": [
        "inputFile = open('security.stackexchange.com.jsonl', 'r')\n",
        "quoteMark = 0\n",
        "nextChar = inputFile.read(1)\n",
        "curQuestion = \"\"\n",
        "curAnswer = \"\"\n",
        "securityQuestions = []\n",
        "securityAnswers = []\n",
        "quoteFlag = False\n",
        "while nextChar:\n",
        "  if nextChar == '\"' and quoteFlag == False:\n",
        "    quoteMark = quoteMark + 1\n",
        "    quoteMark = quoteMark%4\n",
        "    if quoteMark == 2:\n",
        "      securityQuestions.append(curQuestion)\n",
        "      curQuestion = \"\"\n",
        "    elif quoteMark == 0:\n",
        "      securityAnswers.append(curAnswer)\n",
        "      curAnswer = \"\"\n",
        "  elif quoteMark == 1:\n",
        "    curQuestion = curQuestion + nextChar\n",
        "  elif quoteMark == 3:\n",
        "    curAnswer = curAnswer + nextChar\n",
        "  nextChar = inputFile.read(1)\n",
        "  quoteFlag = False\n",
        "  if nextChar == '\\\\':\n",
        "    nextChar = inputFile.read(1)\n",
        "    if nextChar == 'n':\n",
        "      nextChar = '\\n'\n",
        "    elif nextChar == 'u':\n",
        "      code = inputFile.read(4)\n",
        "      nextChar = chr(int(code,16))\n",
        "    elif nextChar == '\\\\':\n",
        "      nextChar = '\\\\'\n",
        "    elif nextChar == '\\\"':\n",
        "      quoteFlag = True\n",
        "    elif nextChar == 'e':\n",
        "      nextChar = inputFile.read(1)\n",
        "      if nextChar == 'q' or nextChar == ' ':\n",
        "        nextChar = chr(int('2260',16))\n",
        "      elif nextChar == 'g':\n",
        "        nextChar = chr(int('00AC',16))\n",
        "    elif nextChar == 'o':\n",
        "      nextChar = inputFile.read(1)\n",
        "      if quoteMark == 1:\n",
        "        curQuestion = curQuestion + \"not \"\n",
        "      elif quoteMark == 3:\n",
        "        curAnswer = curAnswer + \"not \"\n",
        "      nextChar = inputFile.read(1)\n",
        "    elif nextChar == 'i':\n",
        "      nextChar = chr(int('220B',16))\n",
        "inputFile.close()"
      ],
      "metadata": {
        "id": "9aiJXcvZj--v"
      },
      "execution_count": 10,
      "outputs": []
    },
    {
      "cell_type": "code",
      "source": [
        "inputFile = open('softwareengineering.stackexchange.com.jsonl', 'r')\n",
        "quoteMark = 0\n",
        "nextChar = inputFile.read(1)\n",
        "curQuestion = \"\"\n",
        "curAnswer = \"\"\n",
        "softwareengineeringQuestions = []\n",
        "softwareengineeringAnswers = []\n",
        "quoteFlag = False\n",
        "while nextChar:\n",
        "  if nextChar == '\"' and quoteFlag == False:\n",
        "    quoteMark = quoteMark + 1\n",
        "    quoteMark = quoteMark%4\n",
        "    if quoteMark == 2:\n",
        "      softwareengineeringQuestions.append(curQuestion)\n",
        "      curQuestion = \"\"\n",
        "    elif quoteMark == 0:\n",
        "      softwareengineeringAnswers.append(curAnswer)\n",
        "      curAnswer = \"\"\n",
        "  elif quoteMark == 1:\n",
        "    curQuestion = curQuestion + nextChar\n",
        "  elif quoteMark == 3:\n",
        "    curAnswer = curAnswer + nextChar\n",
        "  nextChar = inputFile.read(1)\n",
        "  quoteFlag = False\n",
        "  if nextChar == '\\\\':\n",
        "    nextChar = inputFile.read(1)\n",
        "    if nextChar == 'n':\n",
        "      nextChar = '\\n'\n",
        "    elif nextChar == 'u':\n",
        "      code = inputFile.read(4)\n",
        "      nextChar = chr(int(code,16))\n",
        "    elif nextChar == '\\\\':\n",
        "      nextChar = '\\\\'\n",
        "    elif nextChar == '\\\"':\n",
        "      quoteFlag = True\n",
        "    elif nextChar == 'e':\n",
        "      nextChar = inputFile.read(1)\n",
        "      if nextChar == 'q' or nextChar == ' ':\n",
        "        nextChar = chr(int('2260',16))\n",
        "      elif nextChar == 'g':\n",
        "        nextChar = chr(int('00AC',16))\n",
        "    elif nextChar == 'o':\n",
        "      nextChar = inputFile.read(1)\n",
        "      if quoteMark == 1:\n",
        "        curQuestion = curQuestion + \"not \"\n",
        "      elif quoteMark == 3:\n",
        "        curAnswer = curAnswer + \"not \"\n",
        "      nextChar = inputFile.read(1)\n",
        "    elif nextChar == 'i':\n",
        "      nextChar = chr(int('220B',16))\n",
        "inputFile.close()"
      ],
      "metadata": {
        "id": "L3sUFPdEkQaO"
      },
      "execution_count": 11,
      "outputs": []
    },
    {
      "cell_type": "code",
      "source": [
        "inputFile = open('sqa.stackexchange.com.jsonl', 'r')\n",
        "quoteMark = 0\n",
        "nextChar = inputFile.read(1)\n",
        "curQuestion = \"\"\n",
        "curAnswer = \"\"\n",
        "sqaQuestions = []\n",
        "sqaAnswers = []\n",
        "quoteFlag = False\n",
        "while nextChar:\n",
        "  if nextChar == '\"' and quoteFlag == False:\n",
        "    quoteMark = quoteMark + 1\n",
        "    quoteMark = quoteMark%4\n",
        "    if quoteMark == 2:\n",
        "      sqaQuestions.append(curQuestion)\n",
        "      curQuestion = \"\"\n",
        "    elif quoteMark == 0:\n",
        "      sqaAnswers.append(curAnswer)\n",
        "      curAnswer = \"\"\n",
        "  elif quoteMark == 1:\n",
        "    curQuestion = curQuestion + nextChar\n",
        "  elif quoteMark == 3:\n",
        "    curAnswer = curAnswer + nextChar\n",
        "  nextChar = inputFile.read(1)\n",
        "  quoteFlag = False\n",
        "  if nextChar == '\\\\':\n",
        "    nextChar = inputFile.read(1)\n",
        "    if nextChar == 'n':\n",
        "      nextChar = '\\n'\n",
        "    elif nextChar == 'u':\n",
        "      code = inputFile.read(4)\n",
        "      nextChar = chr(int(code,16))\n",
        "    elif nextChar == '\\\\':\n",
        "      nextChar = '\\\\'\n",
        "    elif nextChar == '\\\"':\n",
        "      quoteFlag = True\n",
        "    elif nextChar == 'e':\n",
        "      nextChar = inputFile.read(1)\n",
        "      if nextChar == 'q' or nextChar == ' ':\n",
        "        nextChar = chr(int('2260',16))\n",
        "      elif nextChar == 'g':\n",
        "        nextChar = chr(int('00AC',16))\n",
        "    elif nextChar == 'o':\n",
        "      nextChar = inputFile.read(1)\n",
        "      if quoteMark == 1:\n",
        "        curQuestion = curQuestion + \"not \"\n",
        "      elif quoteMark == 3:\n",
        "        curAnswer = curAnswer + \"not \"\n",
        "      nextChar = inputFile.read(1)\n",
        "    elif nextChar == 'i':\n",
        "      nextChar = chr(int('220B',16))\n",
        "inputFile.close()"
      ],
      "metadata": {
        "id": "o2-gOy9Xkfxh"
      },
      "execution_count": 12,
      "outputs": []
    },
    {
      "cell_type": "code",
      "source": [
        "orQuestionDocs = []\n",
        "for question in orQuestions:\n",
        "  orQuestionDocs.append(nlpModel(question))"
      ],
      "metadata": {
        "id": "7V9qFv-p8uzY"
      },
      "execution_count": 18,
      "outputs": []
    },
    {
      "cell_type": "code",
      "source": [
        "academiaQuestionDocs = []\n",
        "for question in academiaQuestions:\n",
        "  academiaQuestionDocs.append(nlpModel(question))"
      ],
      "metadata": {
        "id": "GGlxlsiGdAPD"
      },
      "execution_count": 19,
      "outputs": []
    },
    {
      "cell_type": "code",
      "source": [
        "codegolfQuestionDocs = []\n",
        "for question in codegolfQuestions:\n",
        "  codegolfQuestionDocs.append(nlpModel(question))"
      ],
      "metadata": {
        "id": "L71fXn35dJNO"
      },
      "execution_count": 20,
      "outputs": []
    },
    {
      "cell_type": "code",
      "source": [
        "codereviewQuestionDocs = []\n",
        "for question in codereviewQuestions:\n",
        "  codereviewQuestionDocs.append(nlpModel(question))"
      ],
      "metadata": {
        "id": "96lHogINdWXR"
      },
      "execution_count": null,
      "outputs": []
    },
    {
      "cell_type": "code",
      "source": [
        "csQuestionDocs = []\n",
        "for question in csQuestions:\n",
        "  csQuestionDocs.append(nlpModel(question))"
      ],
      "metadata": {
        "id": "Ct5MbH3QdiJ9"
      },
      "execution_count": null,
      "outputs": []
    },
    {
      "cell_type": "code",
      "source": [
        "cseducatorsQuestionDocs = []\n",
        "for question in cseducatorsQuestions:\n",
        "  cseducatorsQuestionDocs.append(nlpModel(question))"
      ],
      "metadata": {
        "id": "hKDpj_UsdqL-"
      },
      "execution_count": null,
      "outputs": []
    },
    {
      "cell_type": "code",
      "source": [
        "cstheoryQuestionDocs = []\n",
        "for question in cstheoryQuestions:\n",
        "  cstheoryQuestionDocs.append(nlpModel(question))"
      ],
      "metadata": {
        "id": "L6jegKv7dxJ2"
      },
      "execution_count": null,
      "outputs": []
    },
    {
      "cell_type": "code",
      "source": [
        "datascienceQuestionDocs = []\n",
        "for question in datascienceQuestions:\n",
        "  datascienceQuestionDocs.append(nlpModel(question))"
      ],
      "metadata": {
        "id": "LrFAVYCad0h-"
      },
      "execution_count": null,
      "outputs": []
    },
    {
      "cell_type": "code",
      "source": [
        "scicompQuestionDocs = []\n",
        "for question in scicompQuestions:\n",
        "  scicompQuestionDocs.append(nlpModel(question))"
      ],
      "metadata": {
        "id": "1yk7ro_kd0F1"
      },
      "execution_count": null,
      "outputs": []
    },
    {
      "cell_type": "code",
      "source": [
        "securityQuestionDocs = []\n",
        "for question in securityQuestions:\n",
        "  securityQuestionDocs.append(nlpModel(question))"
      ],
      "metadata": {
        "id": "f-G-JBv6dztl"
      },
      "execution_count": null,
      "outputs": []
    },
    {
      "cell_type": "code",
      "source": [
        "softwareengineeringQuestionDocs = []\n",
        "for question in softwareengineeringQuestions:\n",
        "  softwareengineeringQuestionDocs.append(nlpModel(question))"
      ],
      "metadata": {
        "id": "OvzE_CwtdzWf"
      },
      "execution_count": null,
      "outputs": []
    },
    {
      "cell_type": "code",
      "source": [
        "sqaQuestionDocs = []\n",
        "for question in sqaQuestions:\n",
        "  sqaQuestionDocs.append(nlpModel(question))"
      ],
      "metadata": {
        "id": "gDtTjqiCdycu"
      },
      "execution_count": null,
      "outputs": []
    },
    {
      "cell_type": "code",
      "source": [
        "inputText = \"What is the fastest and most efficient all-nodes BFS algorithm?\"\n",
        "input = nlpModel(inputText)"
      ],
      "metadata": {
        "id": "x6OAJYGb_Xqm"
      },
      "execution_count": 29,
      "outputs": []
    },
    {
      "cell_type": "code",
      "source": [
        "similarity = 0.0\n",
        "bestFitQSet = \"\"\n",
        "bestFitIndex = 0"
      ],
      "metadata": {
        "id": "JLeEG1hBf69Z"
      },
      "execution_count": null,
      "outputs": []
    },
    {
      "cell_type": "code",
      "source": [
        "index = 0\n",
        "for question in orQuestionDocs:\n",
        "  if question.similarity(input)>similarity:\n",
        "    similarity = question.similarity(input)\n",
        "    bestFitIndex = index\n",
        "    bestFitQSet = \"Operations Research\"\n",
        "  index = index + 1"
      ],
      "metadata": {
        "colab": {
          "base_uri": "https://localhost:8080/"
        },
        "id": "-YWYXLQs-dVg",
        "outputId": "000068ef-eaae-429f-f913-3e5858fbab75"
      },
      "execution_count": 31,
      "outputs": [
        {
          "output_type": "stream",
          "name": "stdout",
          "text": [
            "0.8577900896929965\n"
          ]
        }
      ]
    },
    {
      "cell_type": "code",
      "source": [
        "index = 0\n",
        "for question in academiaQuestionDocs:\n",
        "  if question.similarity(input)>similarity:\n",
        "    similarity = question.similarity(input)\n",
        "    bestFitIndex = index\n",
        "    bestFitQSet = \"Academia\"\n",
        "  index = index + 1"
      ],
      "metadata": {
        "id": "YW2c-BbOhzcW"
      },
      "execution_count": null,
      "outputs": []
    },
    {
      "cell_type": "code",
      "source": [
        "index = 0\n",
        "for question in codegolfQuestionDocs:\n",
        "  if question.similarity(input)>similarity:\n",
        "    similarity = question.similarity(input)\n",
        "    bestFitIndex = index\n",
        "    bestFitQSet = \"Code Golf\"\n",
        "  index = index + 1"
      ],
      "metadata": {
        "id": "1L5eEyqYh4z_"
      },
      "execution_count": null,
      "outputs": []
    },
    {
      "cell_type": "code",
      "source": [
        "index = 0\n",
        "for question in codereviewQuestionDocs:\n",
        "  if question.similarity(input)>similarity:\n",
        "    similarity = question.similarity(input)\n",
        "    bestFitIndex = index\n",
        "    bestFitQSet = \"Code Review\"\n",
        "  index = index + 1"
      ],
      "metadata": {
        "id": "1JCFtb2xh52_"
      },
      "execution_count": null,
      "outputs": []
    },
    {
      "cell_type": "code",
      "source": [
        "index = 0\n",
        "for question in csQuestionDocs:\n",
        "  if question.similarity(input)>similarity:\n",
        "    similarity = question.similarity(input)\n",
        "    bestFitIndex = index\n",
        "    bestFitQSet = \"CS\"\n",
        "  index = index + 1"
      ],
      "metadata": {
        "id": "Su5_fMtXh7m-"
      },
      "execution_count": null,
      "outputs": []
    },
    {
      "cell_type": "code",
      "source": [
        "index = 0\n",
        "for question in cseducatorsQuestionDocs:\n",
        "  if question.similarity(input)>similarity:\n",
        "    similarity = question.similarity(input)\n",
        "    bestFitIndex = index\n",
        "    bestFitQSet = \"CS Educators\"\n",
        "  index = index + 1"
      ],
      "metadata": {
        "id": "NOEO4nWUh8U6"
      },
      "execution_count": null,
      "outputs": []
    },
    {
      "cell_type": "code",
      "source": [
        "index = 0\n",
        "for question in cstheoryQuestionDocs:\n",
        "  if question.similarity(input)>similarity:\n",
        "    similarity = question.similarity(input)\n",
        "    bestFitIndex = index\n",
        "    bestFitQSet = \"CS Theory\"\n",
        "  index = index + 1"
      ],
      "metadata": {
        "id": "XzmihVNVh9C6"
      },
      "execution_count": null,
      "outputs": []
    },
    {
      "cell_type": "code",
      "source": [
        "index = 0\n",
        "for question in datascienceQuestionDocs:\n",
        "  if question.similarity(input)>similarity:\n",
        "    similarity = question.similarity(input)\n",
        "    bestFitIndex = index\n",
        "    bestFitQSet = \"Data Science\"\n",
        "  index = index + 1"
      ],
      "metadata": {
        "id": "rCuiyHhvh9r4"
      },
      "execution_count": null,
      "outputs": []
    },
    {
      "cell_type": "code",
      "source": [
        "index = 0\n",
        "for question in scicompQuestionDocs:\n",
        "  if question.similarity(input)>similarity:\n",
        "    similarity = question.similarity(input)\n",
        "    bestFitIndex = index\n",
        "    bestFitQSet = \"Sci Comp\"\n",
        "  index = index + 1"
      ],
      "metadata": {
        "id": "tF7mccPEh-Qd"
      },
      "execution_count": null,
      "outputs": []
    },
    {
      "cell_type": "code",
      "source": [
        "index = 0\n",
        "for question in securityQuestionDocs:\n",
        "  if question.similarity(input)>similarity:\n",
        "    similarity = question.similarity(input)\n",
        "    bestFitIndex = index\n",
        "    bestFitQSet = \"Security\"\n",
        "  index = index + 1"
      ],
      "metadata": {
        "id": "I7Oby6odh-6L"
      },
      "execution_count": null,
      "outputs": []
    },
    {
      "cell_type": "code",
      "source": [
        "index = 0\n",
        "for question in softwareengineeringQuestionDocs:\n",
        "  if question.similarity(input)>similarity:\n",
        "    similarity = question.similarity(input)\n",
        "    bestFitIndex = index\n",
        "    bestFitQSet = \"SE\"\n",
        "  index = index + 1"
      ],
      "metadata": {
        "id": "pQBlYJ11h_sh"
      },
      "execution_count": null,
      "outputs": []
    },
    {
      "cell_type": "code",
      "source": [
        "index = 0\n",
        "for question in sqaQuestionDocs:\n",
        "  if question.similarity(input)>similarity:\n",
        "    similarity = question.similarity(input)\n",
        "    bestFitIndex = index\n",
        "    bestFitQSet = \"SQA\"\n",
        "  index = index + 1"
      ],
      "metadata": {
        "id": "0CSlkbXLiAuC"
      },
      "execution_count": null,
      "outputs": []
    },
    {
      "cell_type": "code",
      "source": [
        "print(\"The best fit question came from our \"+bestFitQSet+\" Stack Exchange dataset had a similarity of \"+str(similarity)+\". The question is:\")\n",
        "question = \"\"\n",
        "if bestFitQSet == \"Academia\":\n",
        "  question = academiaQuestions[bestFitIndex]\n",
        "elif bestFitQSet == \"Code Golf\":\n",
        "  question = codegolfQuestions[bestFitIndex]\n",
        "elif bestFitQSet == \"Code Review\":\n",
        "  question = codereviewQuestions[bestFitIndex]\n",
        "elif bestFitQSet == \"CS\":\n",
        "  question = csQuestions[bestFitIndex]\n",
        "elif bestFitQSet == \"CS Educators\":\n",
        "  question = cseducatorsQuestions[bestFitIndex]\n",
        "elif bestFitQSet == \"CS Theory\":\n",
        "  question = cstheoryQuestions[bestFitIndex]\n",
        "elif bestFitQSet == \"Data Science\":\n",
        "  question = datascienceQuestions[bestFitIndex]\n",
        "elif bestFitQSet == \"Operations Research\":\n",
        "  question = orQuestions[bestFitIndex]\n",
        "elif bestFitQSet == \"Sci Comp\":\n",
        "  question = scicompQuestions[bestFitIndex]\n",
        "elif bestFitQSet == \"Security\":\n",
        "  question = securityQuestions[bestFitIndex]\n",
        "elif bestFitQSet == \"SE\":\n",
        "  question = softwareengineeringQuestions[bestFitIndex]\n",
        "elif bestFitQSet == \"SQA\":\n",
        "  question = sqaQuestions[bestFitIndex]\n",
        "else:\n",
        "  question = \"Charles messed up, didn't he?\"\n",
        "print(question+\"\\nAnd the answer is:\")\n",
        "answer = \"\"\n",
        "if bestFitQSet == \"Academia\":\n",
        "  answer = academiaAnswers[bestFitIndex]\n",
        "elif bestFitQSet == \"Code Golf\":\n",
        "  answer = codegolfAnswers[bestFitIndex]\n",
        "elif bestFitQSet == \"Code Review\":\n",
        "  answer = codereviewAnswers[bestFitIndex]\n",
        "elif bestFitQSet == \"CS\":\n",
        "  answer = csAnswers[bestFitIndex]\n",
        "elif bestFitQSet == \"CS Educators\":\n",
        "  answer = cseducatorsAnswers[bestFitIndex]\n",
        "elif bestFitQSet == \"CS Theory\":\n",
        "  answer = cstheoryAnswers[bestFitIndex]\n",
        "elif bestFitQSet == \"Data Science\":\n",
        "  answer = datascienceAnswers[bestFitIndex]\n",
        "elif bestFitQSet == \"Operations Research\":\n",
        "  answer = orAnswers[bestFitIndex]\n",
        "elif bestFitQSet == \"Sci Comp\":\n",
        "  answer = scicompAnswers[bestFitIndex]\n",
        "elif bestFitQSet == \"Security\":\n",
        "  answer = securityAnswers[bestFitIndex]\n",
        "elif bestFitQSet == \"SE\":\n",
        "  answer = softwareengineeringAnswers[bestFitIndex]\n",
        "elif bestFitQSet == \"SQA\":\n",
        "  answer = sqaAnswers[bestFitIndex]\n",
        "else:\n",
        "  answer = \"Yeah, Charles messed up.\"\n",
        "print(answer)"
      ],
      "metadata": {
        "colab": {
          "base_uri": "https://localhost:8080/"
        },
        "id": "8l0EarDke7cs",
        "outputId": "5c7e6b96-6cad-4316-cac0-5f0cca47745c"
      },
      "execution_count": 33,
      "outputs": [
        {
          "output_type": "stream",
          "name": "stdout",
          "text": [
            "The best fit question from Stack Exchange had a similarity of 0.8577900896929965. The question was: \n",
            "Many-to-many Breadth First Search There is a directed social network with large number of nodes and arcs and there are many instances of the network (nodes are same but arcs change in each instance). You can think of it as a stochastic network with probabilities on the arcs, so that in each scenario you end up a different instance of the network (in terms of arcs).\n",
            "\n",
            "For each node in the network and for each instance we run BFS to determine the successor set. As you may realize we need to run the BFS (V.R) times where V is the number of nodes and R is the number of instances. However for a given instance, there may be a much efficient way of doing the BFS. For instance during the steps of BFS if we meet a node whose successor set is already calculated, we directly add that whole set and do not continue further in that direction. This improves the performance when we consider all the nodes, however it still takes too much time for large networks.\n",
            "\n",
            "So the challenge is: Is there an efficient all-nodes BFS algorithm that computes the BFS sets of all nodes, that is faster than the above method? (Similar to the comparison of Dijkstra and Floyd-Warshall for shortest paths)\n",
            "And the answer was: \n",
            "Since your graph is directed you can first compute the strongly connected components in linear time $O(n+m)$, contract the components, and then run BFS on the contracted graph. For each strongly connected component with $c$ nodes this saves you $c-1$ BFS calls.\n",
            "\n",
            "Also, the resulting graph is a DAG, so processing it in reverse topological order the reachable nodes of a node are given by the union of the reachable nodes of the successors and the node itself.\n"
          ]
        }
      ]
    }
  ]
}